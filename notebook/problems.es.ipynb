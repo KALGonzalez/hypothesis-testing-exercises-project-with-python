{
 "cells": [
  {
   "cell_type": "markdown",
   "id": "d9d036c6",
   "metadata": {},
   "source": [
    "# Problemas de prueba de hipótesis"
   ]
  },
  {
   "cell_type": "markdown",
   "id": "d157c4db",
   "metadata": {},
   "source": [
    "## Ejercicio 1\n",
    "\n",
    "Usted es un nutricionista que investiga dos tipos diferentes de dietas para ver si existe una diferencia significativa en la pérdida de peso después de un mes. Eliges dos grupos aleatorios de personas; un grupo sigue la primera dieta y el otro sigue la segunda. Al final del mes, se registra la pérdida de peso (en kg) de cada persona:\n",
    "\n",
    "| Diet 1 | Diet 2 |\n",
    "|:-------|:-------|\n",
    "| 2.0 | 3.0 |\n",
    "| 2.5 | 3.2 |\n",
    "| 3.0 | 3.1 |\n",
    "| 2.8 | 2.9 |\n",
    "| 2.3 | 2.8 |\n",
    "| 2.7 | 3.0 |\n",
    "| 2.5 | 3.2 |\n",
    "\n",
    "Con estos datos se busca responder a la siguiente pregunta: ¿Existe una diferencia significativa en la pérdida de peso promedio entre las personas que siguieron la primera dieta y las que siguieron la segunda dieta?\n",
    "\n",
    "Para sacar conclusiones, siga los siguientes puntos:\n",
    "\n",
    "-Enunciar la hipótesis: hipótesis nula y alternativa.\n",
    "-Realizar la prueba para comprobar la hipótesis. Puede utilizar la prueba t de Student.\n",
    "-Analizar las conclusiones."
   ]
  },
  {
   "cell_type": "code",
   "execution_count": 1,
   "id": "8e0f3cf0",
   "metadata": {},
   "outputs": [
    {
     "name": "stdout",
     "output_type": "stream",
     "text": [
      "Media Dieta 1: 2.54, Desviación estándar Dieta 1: 0.33\n",
      "Media Dieta 2: 3.03, Desviación estándar Dieta 2: 0.15\n",
      "\n",
      "Estadístico t: -3.54\n",
      "Valor p: 0.004\n",
      "Rechazamos la hipótesis nula: Existe una diferencia significativa entre las dietas.\n"
     ]
    }
   ],
   "source": [
    "import numpy as np\n",
    "from scipy.stats import ttest_ind\n",
    "\n",
    "# Datos de pérdida de peso\n",
    "diet1 = [2.0, 2.5, 3.0, 2.8, 2.3, 2.7, 2.5]\n",
    "diet2 = [3.0, 3.2, 3.1, 2.9, 2.8, 3.0, 3.2]\n",
    "\n",
    "# Cálculo de medias y desviaciones estándar\n",
    "mean_diet1 = np.mean(diet1)\n",
    "mean_diet2 = np.mean(diet2)\n",
    "std_diet1 = np.std(diet1, ddof=1)\n",
    "std_diet2 = np.std(diet2, ddof=1)\n",
    "\n",
    "print(f\"Media Dieta 1: {mean_diet1:.2f}, Desviación estándar Dieta 1: {std_diet1:.2f}\")\n",
    "print(f\"Media Dieta 2: {mean_diet2:.2f}, Desviación estándar Dieta 2: {std_diet2:.2f}\")\n",
    "\n",
    "# Prueba t para muestras independientes\n",
    "t_stat, p_value = ttest_ind(diet1, diet2)\n",
    "\n",
    "# Nivel de significancia\n",
    "alpha = 0.05\n",
    "\n",
    "print(f\"\\nEstadístico t: {t_stat:.2f}\")\n",
    "print(f\"Valor p: {p_value:.3f}\")\n",
    "\n",
    "# Conclusión\n",
    "if p_value < alpha:\n",
    "    print(\"Rechazamos la hipótesis nula: Existe una diferencia significativa entre las dietas.\")\n",
    "else:\n",
    "    print(\"No podemos rechazar la hipótesis nula: No hay evidencia suficiente para decir que las dietas son diferentes.\")\n"
   ]
  },
  {
   "cell_type": "markdown",
   "id": "f432e18e",
   "metadata": {},
   "source": [
    "## ANOVA\n",
    "\n",
    "**ANOVA** (*Analysis of Variance - Análisis de variación*) Es una técnica estadística utilizada para comparar las medidas de dos o más grupos. La idea detrás de ANOVA es descomponer la variabilidad total de los datos en dos componentes: variabilidad entre grupos y variabilidad dentro de los grupos:\n",
    "\n",
    "- **Variabilidad entre grupos**: Esta variabilidad se refiere a las diferencias entre las medias del grupo. Si esta variabilidad es considerablemente mayor que la variabilidad dentro del grupo, podría ser una indicación de que al menos una de las medias del grupo es diferente.\n",
    "- **Variabilidad dentro del grupo**: Esta variabilidad se refiere a la dispersión de los datos dentro de cada grupo. Si todos los grupos tienen una variabilidad similar, entonces cualquier diferencia notable en las medias de los grupos podría considerarse significativa.\n",
    "\n",
    "Las hipótesis en ANOVA suelen incluir:\n",
    "\n",
    "- **Hipótesis nula** ($H₀$): Las medias de todos los grupos son iguales.\n",
    "- **Hipótesis alternativa** ($H₁$): Al menos una de las medias del grupo es diferente.\n",
    "\n",
    "Si el resultado de la prueba ANOVA es significativo (por ejemplo, un valor p inferior a un umbral como 0,05), esto sugiere que al menos la media de un grupo es diferente."
   ]
  },
  {
   "cell_type": "markdown",
   "id": "fc5f3721",
   "metadata": {},
   "source": [
    "## Ejercicio 2\n",
    "\n",
    "Un agricultor decide probar tres tipos diferentes de fertilizantes para determinar si alguno es superior en términos de producción de maíz. El agricultor planta maíz en 15 parcelas idénticas y utiliza los tres fertilizantes (5 parcelas para cada tipo). Al final de la temporada mide el rendimiento de maíz (en kg) de cada parcela, con el siguiente resultado:\n",
    "\n",
    "| Fertilizante 1 | Fertilizante 2 | Fertilizante 3 |\n",
    "|:-------------|:-------------|:-------------|\n",
    "| 20 | 22 | 24 |\n",
    "| 21 | 21 | 23 |\n",
    "| 20 | 23 | 22 |\n",
    "| 19 | 22 | 23 |\n",
    "| 20 | 21 | 24 |\n",
    "\n",
    "Con estos datos busca responder la siguiente pregunta: ¿Existe una diferencia significativa en el rendimiento promedio del maíz entre los tres tipos de fertilizantes?\n",
    "\n",
    "Para ayudarte, sigue los siguientes puntos:\n",
    "\n",
    "-Enunciar la hipótesis: hipótesis nula y alternativa.\n",
    "-Realizar la prueba ANOVA.\n",
    "-Analizar las conclusiones.\n",
    "-Si un fertilizante es mejor que otro, ¿cómo podemos saberlo?"
   ]
  },
  {
   "cell_type": "code",
   "execution_count": 2,
   "id": "eecad0ca",
   "metadata": {},
   "outputs": [
    {
     "name": "stdout",
     "output_type": "stream",
     "text": [
      "Estadístico F: 20.32\n",
      "Valor p: 0.000\n",
      "Rechazamos la hipótesis nula: Existe una diferencia significativa entre los fertilizantes.\n"
     ]
    }
   ],
   "source": [
    "import numpy as np\n",
    "from scipy.stats import f_oneway\n",
    "\n",
    "# Datos de los fertilizantes\n",
    "fertilizante1 = [20, 21, 20, 19, 20]\n",
    "fertilizante2 = [22, 21, 23, 22, 21]\n",
    "fertilizante3 = [24, 23, 22, 23, 24]\n",
    "\n",
    "# Realizar la prueba ANOVA\n",
    "f_stat, p_value = f_oneway(fertilizante1, fertilizante2, fertilizante3)\n",
    "\n",
    "# Resultados\n",
    "print(f\"Estadístico F: {f_stat:.2f}\")\n",
    "print(f\"Valor p: {p_value:.3f}\")\n",
    "\n",
    "# Nivel de significancia\n",
    "alpha = 0.05\n",
    "\n",
    "if p_value < alpha:\n",
    "    print(\"Rechazamos la hipótesis nula: Existe una diferencia significativa entre los fertilizantes.\")\n",
    "else:\n",
    "    print(\"No podemos rechazar la hipótesis nula: No hay evidencia suficiente para decir que los fertilizantes son diferentes.\")\n"
   ]
  },
  {
   "cell_type": "markdown",
   "id": "f7dee9cb",
   "metadata": {},
   "source": [
    "Estadístico F: Mide la relación entre la variabilidad entre grupos y dentro de los grupos.\n",
    "\n",
    "Valor p: Si 𝑝 < 0.05 p<0.05, \n",
    "\n",
    "significa que las diferencias en las medias son estadísticamente significativas."
   ]
  },
  {
   "cell_type": "code",
   "execution_count": 3,
   "id": "46f2436e",
   "metadata": {},
   "outputs": [
    {
     "name": "stdout",
     "output_type": "stream",
     "text": [
      "Media Fertilizante 1: 20.00\n",
      "Media Fertilizante 2: 21.80\n",
      "Media Fertilizante 3: 23.20\n"
     ]
    }
   ],
   "source": [
    "mean_f1 = np.mean(fertilizante1)\n",
    "mean_f2 = np.mean(fertilizante2)\n",
    "mean_f3 = np.mean(fertilizante3)\n",
    "\n",
    "print(f\"Media Fertilizante 1: {mean_f1:.2f}\")\n",
    "print(f\"Media Fertilizante 2: {mean_f2:.2f}\")\n",
    "print(f\"Media Fertilizante 3: {mean_f3:.2f}\")\n"
   ]
  }
 ],
 "metadata": {
  "kernelspec": {
   "display_name": "Python 3",
   "language": "python",
   "name": "python3"
  },
  "language_info": {
   "codemirror_mode": {
    "name": "ipython",
    "version": 3
   },
   "file_extension": ".py",
   "mimetype": "text/x-python",
   "name": "python",
   "nbconvert_exporter": "python",
   "pygments_lexer": "ipython3",
   "version": "3.11.4"
  }
 },
 "nbformat": 4,
 "nbformat_minor": 5
}
